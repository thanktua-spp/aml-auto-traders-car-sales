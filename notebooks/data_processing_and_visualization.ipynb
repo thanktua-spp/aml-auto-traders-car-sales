{
 "cells": [
  {
   "cell_type": "code",
   "execution_count": 1,
   "id": "4902ffc5-6c94-4e98-8049-246edc2f65e0",
   "metadata": {},
   "outputs": [],
   "source": [
    "import os\n",
    "import pandas as pd\n",
    "from sklearn.impute import SimpleImputer\n",
    "from sklearn.preprocessing import FunctionTransformer"
   ]
  },
  {
   "cell_type": "code",
   "execution_count": null,
   "id": "be8aa739-d099-42cd-a78b-86bf625940e3",
   "metadata": {},
   "outputs": [],
   "source": []
  },
  {
   "cell_type": "markdown",
   "id": "b301b0cd-af0f-4a83-bf45-5e13cb8e9ea8",
   "metadata": {},
   "source": [
    "Import and inspect data from file"
   ]
  },
  {
   "cell_type": "code",
   "execution_count": 2,
   "id": "3c225524-1801-4d00-9ea0-b3a521483b6f",
   "metadata": {},
   "outputs": [
    {
     "data": {
      "text/html": [
       "<div>\n",
       "<style scoped>\n",
       "    .dataframe tbody tr th:only-of-type {\n",
       "        vertical-align: middle;\n",
       "    }\n",
       "\n",
       "    .dataframe tbody tr th {\n",
       "        vertical-align: top;\n",
       "    }\n",
       "\n",
       "    .dataframe thead th {\n",
       "        text-align: right;\n",
       "    }\n",
       "</style>\n",
       "<table border=\"1\" class=\"dataframe\">\n",
       "  <thead>\n",
       "    <tr style=\"text-align: right;\">\n",
       "      <th></th>\n",
       "      <th>public_reference</th>\n",
       "      <th>mileage</th>\n",
       "      <th>reg_code</th>\n",
       "      <th>standard_colour</th>\n",
       "      <th>standard_make</th>\n",
       "      <th>standard_model</th>\n",
       "      <th>vehicle_condition</th>\n",
       "      <th>year_of_registration</th>\n",
       "      <th>price</th>\n",
       "      <th>body_type</th>\n",
       "      <th>crossover_car_and_van</th>\n",
       "      <th>fuel_type</th>\n",
       "    </tr>\n",
       "  </thead>\n",
       "  <tbody>\n",
       "    <tr>\n",
       "      <th>0</th>\n",
       "      <td>202006039777689</td>\n",
       "      <td>0.0</td>\n",
       "      <td>NaN</td>\n",
       "      <td>Grey</td>\n",
       "      <td>Volvo</td>\n",
       "      <td>XC90</td>\n",
       "      <td>NEW</td>\n",
       "      <td>NaN</td>\n",
       "      <td>73970</td>\n",
       "      <td>SUV</td>\n",
       "      <td>False</td>\n",
       "      <td>Petrol Plug-in Hybrid</td>\n",
       "    </tr>\n",
       "    <tr>\n",
       "      <th>1</th>\n",
       "      <td>202007020778260</td>\n",
       "      <td>108230.0</td>\n",
       "      <td>61</td>\n",
       "      <td>Blue</td>\n",
       "      <td>Jaguar</td>\n",
       "      <td>XF</td>\n",
       "      <td>USED</td>\n",
       "      <td>2011.0</td>\n",
       "      <td>7000</td>\n",
       "      <td>Saloon</td>\n",
       "      <td>False</td>\n",
       "      <td>Diesel</td>\n",
       "    </tr>\n",
       "    <tr>\n",
       "      <th>2</th>\n",
       "      <td>202007020778474</td>\n",
       "      <td>7800.0</td>\n",
       "      <td>17</td>\n",
       "      <td>Grey</td>\n",
       "      <td>SKODA</td>\n",
       "      <td>Yeti</td>\n",
       "      <td>USED</td>\n",
       "      <td>2017.0</td>\n",
       "      <td>14000</td>\n",
       "      <td>SUV</td>\n",
       "      <td>False</td>\n",
       "      <td>Petrol</td>\n",
       "    </tr>\n",
       "  </tbody>\n",
       "</table>\n",
       "</div>"
      ],
      "text/plain": [
       "   public_reference   mileage reg_code standard_colour standard_make  \\\n",
       "0   202006039777689       0.0      NaN            Grey         Volvo   \n",
       "1   202007020778260  108230.0       61            Blue        Jaguar   \n",
       "2   202007020778474    7800.0       17            Grey         SKODA   \n",
       "\n",
       "  standard_model vehicle_condition  year_of_registration  price body_type  \\\n",
       "0           XC90               NEW                   NaN  73970       SUV   \n",
       "1             XF              USED                2011.0   7000    Saloon   \n",
       "2           Yeti              USED                2017.0  14000       SUV   \n",
       "\n",
       "   crossover_car_and_van              fuel_type  \n",
       "0                  False  Petrol Plug-in Hybrid  \n",
       "1                  False                 Diesel  \n",
       "2                  False                 Petrol  "
      ]
     },
     "execution_count": 2,
     "metadata": {},
     "output_type": "execute_result"
    }
   ],
   "source": [
    "adverts_df = pd.read_csv(\"../adverts.csv\")\n",
    "adverts_df.head(3)"
   ]
  },
  {
   "cell_type": "code",
   "execution_count": null,
   "id": "2876fc84-1eb2-4488-84e6-e59f57fca379",
   "metadata": {},
   "outputs": [],
   "source": []
  },
  {
   "cell_type": "code",
   "execution_count": 3,
   "id": "ca8b0c42-a014-41bc-8296-da658927b516",
   "metadata": {},
   "outputs": [
    {
     "name": "stdout",
     "output_type": "stream",
     "text": [
      "<class 'pandas.core.frame.DataFrame'>\n",
      "RangeIndex: 402005 entries, 0 to 402004\n",
      "Data columns (total 12 columns):\n",
      " #   Column                 Non-Null Count   Dtype  \n",
      "---  ------                 --------------   -----  \n",
      " 0   public_reference       402005 non-null  int64  \n",
      " 1   mileage                401878 non-null  float64\n",
      " 2   reg_code               370148 non-null  object \n",
      " 3   standard_colour        396627 non-null  object \n",
      " 4   standard_make          402005 non-null  object \n",
      " 5   standard_model         402005 non-null  object \n",
      " 6   vehicle_condition      402005 non-null  object \n",
      " 7   year_of_registration   368694 non-null  float64\n",
      " 8   price                  402005 non-null  int64  \n",
      " 9   body_type              401168 non-null  object \n",
      " 10  crossover_car_and_van  402005 non-null  bool   \n",
      " 11  fuel_type              401404 non-null  object \n",
      "dtypes: bool(1), float64(2), int64(2), object(7)\n",
      "memory usage: 34.1+ MB\n"
     ]
    }
   ],
   "source": [
    "adverts_df.info()"
   ]
  },
  {
   "cell_type": "code",
   "execution_count": 4,
   "id": "3010bfea-821f-487e-804b-5398d9b41bc7",
   "metadata": {},
   "outputs": [
    {
     "data": {
      "text/plain": [
       "(402005, 12)"
      ]
     },
     "execution_count": 4,
     "metadata": {},
     "output_type": "execute_result"
    }
   ],
   "source": [
    "adverts_df.shape"
   ]
  },
  {
   "cell_type": "code",
   "execution_count": null,
   "id": "f51106d5-a294-4c34-b186-64aa4540ed48",
   "metadata": {},
   "outputs": [],
   "source": []
  },
  {
   "cell_type": "markdown",
   "id": "1dd14ed4-d767-4091-b775-9c528def2d63",
   "metadata": {},
   "source": [
    "Ramdom sample from data for faster experimentation"
   ]
  },
  {
   "cell_type": "code",
   "execution_count": 5,
   "id": "f2958d03-40a8-4d95-90cb-d05606f22ced",
   "metadata": {},
   "outputs": [
    {
     "data": {
      "text/plain": [
       "(40200, 12)"
      ]
     },
     "execution_count": 5,
     "metadata": {},
     "output_type": "execute_result"
    }
   ],
   "source": [
    "# Random sample of 1% of the original data\n",
    "sample_adverts_df = adverts_df.sample(frac=0.1, random_state=42)\n",
    "sample_adverts_df.shape"
   ]
  },
  {
   "cell_type": "code",
   "execution_count": null,
   "id": "6e4fcae9-9702-4b5b-b58f-5dd10588f30c",
   "metadata": {},
   "outputs": [],
   "source": []
  },
  {
   "cell_type": "markdown",
   "id": "2de0b0fe-8c26-4e29-8be0-b911b132d5cc",
   "metadata": {},
   "source": [
    "Split data into features and targets"
   ]
  },
  {
   "cell_type": "code",
   "execution_count": 6,
   "id": "3bdbc4d3-f994-492b-9a54-510874b79627",
   "metadata": {},
   "outputs": [],
   "source": [
    "features = sample_adverts_df.drop('price', axis=1)\n",
    "target = sample_adverts_df.price"
   ]
  },
  {
   "cell_type": "code",
   "execution_count": 7,
   "id": "43c759bd-61ba-4fb6-903f-f782cc1262b7",
   "metadata": {},
   "outputs": [
    {
     "name": "stdout",
     "output_type": "stream",
     "text": [
      "(40200, 11)\n",
      "(40200,)\n"
     ]
    }
   ],
   "source": [
    "print(features.shape)\n",
    "print(target.shape)"
   ]
  },
  {
   "cell_type": "code",
   "execution_count": null,
   "id": "0642f31f-dcde-4859-b5ee-47af142d4661",
   "metadata": {},
   "outputs": [],
   "source": []
  },
  {
   "cell_type": "markdown",
   "id": "563cbb07-31e6-4eea-9922-5b6bb6166602",
   "metadata": {},
   "source": [
    "## Numerical feature processing"
   ]
  },
  {
   "cell_type": "markdown",
   "id": "0c6f2fa6-68f6-4799-a7dd-76c1dac7e09e",
   "metadata": {},
   "source": [
    "1. Split data into numerical features"
   ]
  },
  {
   "cell_type": "code",
   "execution_count": 20,
   "id": "a22d1b4e-6335-4def-812d-c86394ea0b61",
   "metadata": {},
   "outputs": [
    {
     "data": {
      "text/html": [
       "<div>\n",
       "<style scoped>\n",
       "    .dataframe tbody tr th:only-of-type {\n",
       "        vertical-align: middle;\n",
       "    }\n",
       "\n",
       "    .dataframe tbody tr th {\n",
       "        vertical-align: top;\n",
       "    }\n",
       "\n",
       "    .dataframe thead th {\n",
       "        text-align: right;\n",
       "    }\n",
       "</style>\n",
       "<table border=\"1\" class=\"dataframe\">\n",
       "  <thead>\n",
       "    <tr style=\"text-align: right;\">\n",
       "      <th></th>\n",
       "      <th>public_reference</th>\n",
       "      <th>mileage</th>\n",
       "      <th>year_of_registration</th>\n",
       "    </tr>\n",
       "  </thead>\n",
       "  <tbody>\n",
       "    <tr>\n",
       "      <th>332044</th>\n",
       "      <td>202010074692259</td>\n",
       "      <td>2826.0</td>\n",
       "      <td>2019.0</td>\n",
       "    </tr>\n",
       "    <tr>\n",
       "      <th>173955</th>\n",
       "      <td>202009023198786</td>\n",
       "      <td>10601.0</td>\n",
       "      <td>2019.0</td>\n",
       "    </tr>\n",
       "    <tr>\n",
       "      <th>367464</th>\n",
       "      <td>202007221569681</td>\n",
       "      <td>23000.0</td>\n",
       "      <td>2008.0</td>\n",
       "    </tr>\n",
       "  </tbody>\n",
       "</table>\n",
       "</div>"
      ],
      "text/plain": [
       "        public_reference  mileage  year_of_registration\n",
       "332044   202010074692259   2826.0                2019.0\n",
       "173955   202009023198786  10601.0                2019.0\n",
       "367464   202007221569681  23000.0                2008.0"
      ]
     },
     "execution_count": 20,
     "metadata": {},
     "output_type": "execute_result"
    }
   ],
   "source": [
    "numerical_features = features.select_dtypes(include=['number'])\n",
    "numerical_features.head(3)"
   ]
  },
  {
   "cell_type": "code",
   "execution_count": null,
   "id": "c274395f-f6b1-4822-baa7-cc3fe34ee081",
   "metadata": {},
   "outputs": [],
   "source": []
  },
  {
   "cell_type": "markdown",
   "id": "3b9f8182-b6b6-4fd4-bdca-868554e1f343",
   "metadata": {},
   "source": [
    "2. Drop public reference from dataset as it doesnt seem to be such as useful feature"
   ]
  },
  {
   "cell_type": "code",
   "execution_count": 21,
   "id": "2d6370fd-5f14-4c7e-a9b5-a79277c40307",
   "metadata": {},
   "outputs": [
    {
     "data": {
      "text/html": [
       "<div>\n",
       "<style scoped>\n",
       "    .dataframe tbody tr th:only-of-type {\n",
       "        vertical-align: middle;\n",
       "    }\n",
       "\n",
       "    .dataframe tbody tr th {\n",
       "        vertical-align: top;\n",
       "    }\n",
       "\n",
       "    .dataframe thead th {\n",
       "        text-align: right;\n",
       "    }\n",
       "</style>\n",
       "<table border=\"1\" class=\"dataframe\">\n",
       "  <thead>\n",
       "    <tr style=\"text-align: right;\">\n",
       "      <th></th>\n",
       "      <th>mileage</th>\n",
       "      <th>year_of_registration</th>\n",
       "    </tr>\n",
       "  </thead>\n",
       "  <tbody>\n",
       "    <tr>\n",
       "      <th>332044</th>\n",
       "      <td>2826.0</td>\n",
       "      <td>2019.0</td>\n",
       "    </tr>\n",
       "    <tr>\n",
       "      <th>173955</th>\n",
       "      <td>10601.0</td>\n",
       "      <td>2019.0</td>\n",
       "    </tr>\n",
       "    <tr>\n",
       "      <th>367464</th>\n",
       "      <td>23000.0</td>\n",
       "      <td>2008.0</td>\n",
       "    </tr>\n",
       "  </tbody>\n",
       "</table>\n",
       "</div>"
      ],
      "text/plain": [
       "        mileage  year_of_registration\n",
       "332044   2826.0                2019.0\n",
       "173955  10601.0                2019.0\n",
       "367464  23000.0                2008.0"
      ]
     },
     "execution_count": 21,
     "metadata": {},
     "output_type": "execute_result"
    }
   ],
   "source": [
    "numerical_features_no_pr = numerical_features.drop('public_reference', axis=1)\n",
    "numerical_features_no_pr.head(3)"
   ]
  },
  {
   "cell_type": "code",
   "execution_count": null,
   "id": "7f1bc61e-4851-4c2f-941d-2d5ca17a8598",
   "metadata": {},
   "outputs": [],
   "source": []
  },
  {
   "cell_type": "markdown",
   "id": "64bfe432-e7e8-425b-b9a2-b5b9b14b74f8",
   "metadata": {},
   "source": [
    "make a column transformation step as part of a pipeline\n",
    "\n",
    "https://scikit-learn.org/stable/modules/generated/sklearn.preprocessing.FunctionTransformer.html#sklearn.preprocessing.FunctionTransformer"
   ]
  },
  {
   "cell_type": "code",
   "execution_count": 27,
   "id": "3711ab76-7327-4929-8a88-88ed8a397d27",
   "metadata": {},
   "outputs": [
    {
     "data": {
      "text/html": [
       "<div>\n",
       "<style scoped>\n",
       "    .dataframe tbody tr th:only-of-type {\n",
       "        vertical-align: middle;\n",
       "    }\n",
       "\n",
       "    .dataframe tbody tr th {\n",
       "        vertical-align: top;\n",
       "    }\n",
       "\n",
       "    .dataframe thead th {\n",
       "        text-align: right;\n",
       "    }\n",
       "</style>\n",
       "<table border=\"1\" class=\"dataframe\">\n",
       "  <thead>\n",
       "    <tr style=\"text-align: right;\">\n",
       "      <th></th>\n",
       "      <th>mileage</th>\n",
       "      <th>year_of_registration</th>\n",
       "    </tr>\n",
       "  </thead>\n",
       "  <tbody>\n",
       "    <tr>\n",
       "      <th>332044</th>\n",
       "      <td>2826.0</td>\n",
       "      <td>2019.0</td>\n",
       "    </tr>\n",
       "    <tr>\n",
       "      <th>173955</th>\n",
       "      <td>10601.0</td>\n",
       "      <td>2019.0</td>\n",
       "    </tr>\n",
       "    <tr>\n",
       "      <th>367464</th>\n",
       "      <td>23000.0</td>\n",
       "      <td>2008.0</td>\n",
       "    </tr>\n",
       "  </tbody>\n",
       "</table>\n",
       "</div>"
      ],
      "text/plain": [
       "        mileage  year_of_registration\n",
       "332044   2826.0                2019.0\n",
       "173955  10601.0                2019.0\n",
       "367464  23000.0                2008.0"
      ]
     },
     "execution_count": 27,
     "metadata": {},
     "output_type": "execute_result"
    }
   ],
   "source": [
    "def drop_public_ref(df):\n",
    "    return df.drop('public_reference', axis=1)\n",
    "    \n",
    "no_public_ref = FunctionTransformer(drop_public_ref)\n",
    "no_public_ref_df = no_public_ref.transform(numerical_features)\n",
    "no_public_ref_df.head(3)"
   ]
  },
  {
   "cell_type": "code",
   "execution_count": null,
   "id": "ecd97111-9732-487b-91da-349d89df91e5",
   "metadata": {},
   "outputs": [],
   "source": []
  },
  {
   "cell_type": "code",
   "execution_count": null,
   "id": "a04ffeae-0eda-45c5-a33d-78f1f317ca0a",
   "metadata": {},
   "outputs": [],
   "source": []
  },
  {
   "cell_type": "markdown",
   "id": "c0676d2f-b5ce-44f0-9153-d38cd16e6f44",
   "metadata": {},
   "source": [
    "Investigate missing values in numerical features"
   ]
  },
  {
   "cell_type": "code",
   "execution_count": 28,
   "id": "a3101a71-dd97-4525-b3be-43753f55448c",
   "metadata": {
    "scrolled": true
   },
   "outputs": [
    {
     "data": {
      "text/plain": [
       "mileage                   12\n",
       "year_of_registration    3271\n",
       "dtype: int64"
      ]
     },
     "execution_count": 28,
     "metadata": {},
     "output_type": "execute_result"
    }
   ],
   "source": [
    "def check_missing_values(df):\n",
    "    return df.isnull().sum()\n",
    "\n",
    "check_missing_values(no_public_ref_df) # missing values observed"
   ]
  },
  {
   "cell_type": "code",
   "execution_count": null,
   "id": "34632578-4594-4bd3-9811-46d9c3bec0d9",
   "metadata": {},
   "outputs": [],
   "source": []
  },
  {
   "cell_type": "markdown",
   "id": "153c33b3-1f43-4ffe-8871-937c39a1416c",
   "metadata": {},
   "source": [
    "Handle missing values in numerical features (Using missing value imputation strategies)\n",
    "\n",
    "https://scikit-learn.org/stable/modules/impute.html"
   ]
  },
  {
   "cell_type": "code",
   "execution_count": 15,
   "id": "47882fbf-6575-4c54-a2e6-5a4189d9dd97",
   "metadata": {},
   "outputs": [],
   "source": [
    "from sklearn.impute import SimpleImputer\n",
    "import numpy as np"
   ]
  },
  {
   "cell_type": "code",
   "execution_count": 35,
   "id": "7a8d323c-1775-44ee-8362-8f3a9f5c72e4",
   "metadata": {},
   "outputs": [
    {
     "data": {
      "text/plain": [
       "mileage                 0\n",
       "year_of_registration    0\n",
       "dtype: int64"
      ]
     },
     "execution_count": 35,
     "metadata": {},
     "output_type": "execute_result"
    }
   ],
   "source": [
    "imputer = SimpleImputer(missing_values=np.nan, strategy='mean').set_output(transform='pandas')\n",
    "imputed_missing_values = imputer.fit_transform(no_public_ref_df)\n",
    "\n",
    "check_missing_values(imputed_missing_values) # no missing values observed"
   ]
  },
  {
   "cell_type": "code",
   "execution_count": null,
   "id": "5c64c32c-3127-4bc1-aa96-e5ce1da94b0d",
   "metadata": {},
   "outputs": [],
   "source": []
  },
  {
   "cell_type": "markdown",
   "id": "f962f42f-e289-4db7-9c2c-8796ed852d7d",
   "metadata": {},
   "source": [
    "Other missing value imputation strategy\n",
    "\n",
    "https://scikit-learn.org/stable/auto_examples/impute/plot_missing_values.html#sphx-glr-auto-examples-impute-plot-missing-values-py"
   ]
  },
  {
   "cell_type": "code",
   "execution_count": null,
   "id": "905dd669-c314-4755-82bb-2ceea45c7ea9",
   "metadata": {},
   "outputs": [],
   "source": []
  },
  {
   "cell_type": "code",
   "execution_count": null,
   "id": "766ea691-fd3a-4fe5-b7d0-5aeac27aa372",
   "metadata": {},
   "outputs": [],
   "source": []
  },
  {
   "cell_type": "markdown",
   "id": "61d5e081-720c-45c9-aa83-99c78f3b3784",
   "metadata": {},
   "source": [
    "Scaling/transformation/Outlier removal input features\n",
    "\n",
    "https://scikit-learn.org/stable/modules/preprocessing.html"
   ]
  },
  {
   "cell_type": "code",
   "execution_count": 37,
   "id": "c3e2c9f2-1296-4a40-a459-52a73b5da1f8",
   "metadata": {},
   "outputs": [],
   "source": [
    "from sklearn.preprocessing import StandardScaler"
   ]
  },
  {
   "cell_type": "code",
   "execution_count": null,
   "id": "4b528d7a-938d-455d-b04f-c7217d221149",
   "metadata": {},
   "outputs": [],
   "source": []
  },
  {
   "cell_type": "code",
   "execution_count": null,
   "id": "80a0da63-731f-4f19-90c8-842cb75cb4fc",
   "metadata": {},
   "outputs": [],
   "source": []
  },
  {
   "cell_type": "code",
   "execution_count": null,
   "id": "d0fd0918-ef0c-4222-bf8c-5f1c58508d0e",
   "metadata": {},
   "outputs": [],
   "source": []
  },
  {
   "cell_type": "markdown",
   "id": "391dae97-bd3b-418d-9e66-3a2118cad8f8",
   "metadata": {},
   "source": [
    "todo: make some plots and visualization of the numerical features at different stages of the pipeline"
   ]
  },
  {
   "cell_type": "code",
   "execution_count": null,
   "id": "4a2ce258-798d-49ad-9ef9-7b71d3f82828",
   "metadata": {},
   "outputs": [],
   "source": []
  },
  {
   "cell_type": "code",
   "execution_count": null,
   "id": "823d8745-1d52-48ae-91aa-8c92cf3c5d16",
   "metadata": {},
   "outputs": [],
   "source": []
  },
  {
   "cell_type": "markdown",
   "id": "89448abc-5db0-4433-9671-0f0f4415ba81",
   "metadata": {},
   "source": [
    "todo: consider non linear feature generation method like polonomial features and spline methods\n",
    "\n",
    "https://scikit-learn.org/stable/modules/preprocessing.html#imputation-of-missing-values sections 6.3.7"
   ]
  },
  {
   "cell_type": "code",
   "execution_count": null,
   "id": "b745212a-a51c-4998-be53-35e244b7dcc6",
   "metadata": {},
   "outputs": [],
   "source": []
  },
  {
   "cell_type": "code",
   "execution_count": null,
   "id": "a5e1293e-2e39-4a51-8283-65dab038e479",
   "metadata": {},
   "outputs": [],
   "source": []
  },
  {
   "cell_type": "markdown",
   "id": "b854de0a-8a3d-4445-a76b-effd73ade216",
   "metadata": {},
   "source": [
    "Column transformation of individual steps\n",
    "\n",
    "https://scikit-learn.org/stable/modules/generated/sklearn.compose.make_column_transformer.html#sklearn.compose.make_column_transformer\n",
    "\n",
    "https://scikit-learn.org/stable/modules/generated/sklearn.compose.ColumnTransformer.html#sklearn.compose.ColumnTransformer"
   ]
  },
  {
   "cell_type": "code",
   "execution_count": null,
   "id": "17b14361-a2b9-4bde-ad84-8b169d993553",
   "metadata": {},
   "outputs": [],
   "source": []
  },
  {
   "cell_type": "code",
   "execution_count": null,
   "id": "afc0a53c-a7ca-428e-8b75-cac79b5082d0",
   "metadata": {},
   "outputs": [],
   "source": []
  },
  {
   "cell_type": "code",
   "execution_count": null,
   "id": "9a96e4c8-5fb4-4ac6-bbe6-e314d2d23f23",
   "metadata": {},
   "outputs": [],
   "source": []
  },
  {
   "cell_type": "markdown",
   "id": "822b736a-dfb3-494f-b0cd-088f5ba14489",
   "metadata": {},
   "source": [
    "## Categorical feature processing"
   ]
  },
  {
   "cell_type": "markdown",
   "id": "f85b391b-c63c-47da-87c5-77745ab2e4d3",
   "metadata": {},
   "source": [
    "Split and preprocess data into categorical features"
   ]
  },
  {
   "cell_type": "code",
   "execution_count": 12,
   "id": "2154c335-25ab-40a2-9f9f-44e317e2d8de",
   "metadata": {},
   "outputs": [
    {
     "data": {
      "text/html": [
       "<div>\n",
       "<style scoped>\n",
       "    .dataframe tbody tr th:only-of-type {\n",
       "        vertical-align: middle;\n",
       "    }\n",
       "\n",
       "    .dataframe tbody tr th {\n",
       "        vertical-align: top;\n",
       "    }\n",
       "\n",
       "    .dataframe thead th {\n",
       "        text-align: right;\n",
       "    }\n",
       "</style>\n",
       "<table border=\"1\" class=\"dataframe\">\n",
       "  <thead>\n",
       "    <tr style=\"text-align: right;\">\n",
       "      <th></th>\n",
       "      <th>reg_code</th>\n",
       "      <th>standard_colour</th>\n",
       "      <th>standard_make</th>\n",
       "      <th>standard_model</th>\n",
       "      <th>vehicle_condition</th>\n",
       "      <th>body_type</th>\n",
       "      <th>crossover_car_and_van</th>\n",
       "      <th>fuel_type</th>\n",
       "    </tr>\n",
       "  </thead>\n",
       "  <tbody>\n",
       "    <tr>\n",
       "      <th>0</th>\n",
       "      <td>NaN</td>\n",
       "      <td>Grey</td>\n",
       "      <td>Volvo</td>\n",
       "      <td>XC90</td>\n",
       "      <td>NEW</td>\n",
       "      <td>SUV</td>\n",
       "      <td>False</td>\n",
       "      <td>Petrol Plug-in Hybrid</td>\n",
       "    </tr>\n",
       "    <tr>\n",
       "      <th>1</th>\n",
       "      <td>61</td>\n",
       "      <td>Blue</td>\n",
       "      <td>Jaguar</td>\n",
       "      <td>XF</td>\n",
       "      <td>USED</td>\n",
       "      <td>Saloon</td>\n",
       "      <td>False</td>\n",
       "      <td>Diesel</td>\n",
       "    </tr>\n",
       "    <tr>\n",
       "      <th>2</th>\n",
       "      <td>17</td>\n",
       "      <td>Grey</td>\n",
       "      <td>SKODA</td>\n",
       "      <td>Yeti</td>\n",
       "      <td>USED</td>\n",
       "      <td>SUV</td>\n",
       "      <td>False</td>\n",
       "      <td>Petrol</td>\n",
       "    </tr>\n",
       "    <tr>\n",
       "      <th>3</th>\n",
       "      <td>16</td>\n",
       "      <td>Brown</td>\n",
       "      <td>Vauxhall</td>\n",
       "      <td>Mokka</td>\n",
       "      <td>USED</td>\n",
       "      <td>Hatchback</td>\n",
       "      <td>False</td>\n",
       "      <td>Diesel</td>\n",
       "    </tr>\n",
       "    <tr>\n",
       "      <th>4</th>\n",
       "      <td>64</td>\n",
       "      <td>Grey</td>\n",
       "      <td>Land Rover</td>\n",
       "      <td>Range Rover Sport</td>\n",
       "      <td>USED</td>\n",
       "      <td>SUV</td>\n",
       "      <td>False</td>\n",
       "      <td>Diesel</td>\n",
       "    </tr>\n",
       "    <tr>\n",
       "      <th>...</th>\n",
       "      <td>...</td>\n",
       "      <td>...</td>\n",
       "      <td>...</td>\n",
       "      <td>...</td>\n",
       "      <td>...</td>\n",
       "      <td>...</td>\n",
       "      <td>...</td>\n",
       "      <td>...</td>\n",
       "    </tr>\n",
       "    <tr>\n",
       "      <th>402000</th>\n",
       "      <td>69</td>\n",
       "      <td>Grey</td>\n",
       "      <td>Peugeot</td>\n",
       "      <td>208</td>\n",
       "      <td>USED</td>\n",
       "      <td>Hatchback</td>\n",
       "      <td>False</td>\n",
       "      <td>Petrol</td>\n",
       "    </tr>\n",
       "    <tr>\n",
       "      <th>402001</th>\n",
       "      <td>59</td>\n",
       "      <td>Red</td>\n",
       "      <td>Peugeot</td>\n",
       "      <td>107</td>\n",
       "      <td>USED</td>\n",
       "      <td>Hatchback</td>\n",
       "      <td>False</td>\n",
       "      <td>Petrol</td>\n",
       "    </tr>\n",
       "    <tr>\n",
       "      <th>402002</th>\n",
       "      <td>62</td>\n",
       "      <td>White</td>\n",
       "      <td>Nissan</td>\n",
       "      <td>Qashqai</td>\n",
       "      <td>USED</td>\n",
       "      <td>SUV</td>\n",
       "      <td>False</td>\n",
       "      <td>Petrol</td>\n",
       "    </tr>\n",
       "    <tr>\n",
       "      <th>402003</th>\n",
       "      <td>65</td>\n",
       "      <td>Red</td>\n",
       "      <td>Abarth</td>\n",
       "      <td>595</td>\n",
       "      <td>USED</td>\n",
       "      <td>Hatchback</td>\n",
       "      <td>False</td>\n",
       "      <td>Petrol</td>\n",
       "    </tr>\n",
       "    <tr>\n",
       "      <th>402004</th>\n",
       "      <td>14</td>\n",
       "      <td>Silver</td>\n",
       "      <td>Audi</td>\n",
       "      <td>A4 Avant</td>\n",
       "      <td>USED</td>\n",
       "      <td>Estate</td>\n",
       "      <td>False</td>\n",
       "      <td>Diesel</td>\n",
       "    </tr>\n",
       "  </tbody>\n",
       "</table>\n",
       "<p>402005 rows × 8 columns</p>\n",
       "</div>"
      ],
      "text/plain": [
       "       reg_code standard_colour standard_make     standard_model  \\\n",
       "0           NaN            Grey         Volvo               XC90   \n",
       "1            61            Blue        Jaguar                 XF   \n",
       "2            17            Grey         SKODA               Yeti   \n",
       "3            16           Brown      Vauxhall              Mokka   \n",
       "4            64            Grey    Land Rover  Range Rover Sport   \n",
       "...         ...             ...           ...                ...   \n",
       "402000       69            Grey       Peugeot                208   \n",
       "402001       59             Red       Peugeot                107   \n",
       "402002       62           White        Nissan            Qashqai   \n",
       "402003       65             Red        Abarth                595   \n",
       "402004       14          Silver          Audi           A4 Avant   \n",
       "\n",
       "       vehicle_condition  body_type  crossover_car_and_van  \\\n",
       "0                    NEW        SUV                  False   \n",
       "1                   USED     Saloon                  False   \n",
       "2                   USED        SUV                  False   \n",
       "3                   USED  Hatchback                  False   \n",
       "4                   USED        SUV                  False   \n",
       "...                  ...        ...                    ...   \n",
       "402000              USED  Hatchback                  False   \n",
       "402001              USED  Hatchback                  False   \n",
       "402002              USED        SUV                  False   \n",
       "402003              USED  Hatchback                  False   \n",
       "402004              USED     Estate                  False   \n",
       "\n",
       "                    fuel_type  \n",
       "0       Petrol Plug-in Hybrid  \n",
       "1                      Diesel  \n",
       "2                      Petrol  \n",
       "3                      Diesel  \n",
       "4                      Diesel  \n",
       "...                       ...  \n",
       "402000                 Petrol  \n",
       "402001                 Petrol  \n",
       "402002                 Petrol  \n",
       "402003                 Petrol  \n",
       "402004                 Diesel  \n",
       "\n",
       "[402005 rows x 8 columns]"
      ]
     },
     "execution_count": 12,
     "metadata": {},
     "output_type": "execute_result"
    }
   ],
   "source": [
    "categorical_features = adverts_df.select_dtypes(include=['object', 'category', 'bool'])\n",
    "categorical_features"
   ]
  },
  {
   "cell_type": "code",
   "execution_count": null,
   "id": "e18115fd-e538-40fd-80c2-62b2497c1dd0",
   "metadata": {},
   "outputs": [],
   "source": []
  },
  {
   "cell_type": "code",
   "execution_count": null,
   "id": "26e28fdb-f9fc-4e05-ac53-4a8d34fdcdae",
   "metadata": {},
   "outputs": [],
   "source": []
  },
  {
   "cell_type": "code",
   "execution_count": null,
   "id": "ea7609b9-60f7-49bb-bff1-a2c719ac3252",
   "metadata": {},
   "outputs": [],
   "source": []
  },
  {
   "cell_type": "code",
   "execution_count": null,
   "id": "600c9ab5-0e8e-4c52-bb63-e3bc6a81fef6",
   "metadata": {},
   "outputs": [],
   "source": []
  },
  {
   "cell_type": "code",
   "execution_count": null,
   "id": "c080244a-4a7c-400d-ad53-87edba73a004",
   "metadata": {},
   "outputs": [],
   "source": []
  },
  {
   "cell_type": "code",
   "execution_count": null,
   "id": "7367b882-7d03-4358-bedb-45822847bd1b",
   "metadata": {},
   "outputs": [],
   "source": []
  },
  {
   "cell_type": "code",
   "execution_count": null,
   "id": "be686c6e-7226-416e-a83a-5a526d670571",
   "metadata": {},
   "outputs": [],
   "source": []
  },
  {
   "cell_type": "code",
   "execution_count": null,
   "id": "e77e31ee-5537-4d0e-a627-9cad2a9b54d9",
   "metadata": {},
   "outputs": [],
   "source": []
  },
  {
   "cell_type": "code",
   "execution_count": null,
   "id": "7bb93550-60ce-47d3-844b-23e7a70ef293",
   "metadata": {},
   "outputs": [],
   "source": []
  },
  {
   "cell_type": "code",
   "execution_count": null,
   "id": "87ebafa2-1cb5-4e85-9892-310c3b05001f",
   "metadata": {},
   "outputs": [],
   "source": []
  },
  {
   "cell_type": "code",
   "execution_count": null,
   "id": "b78d40e9-1371-4d31-8092-62715d915c94",
   "metadata": {},
   "outputs": [],
   "source": []
  },
  {
   "cell_type": "code",
   "execution_count": null,
   "id": "7bd1d8de-31af-4760-ab2e-f53c8b8d0b7a",
   "metadata": {},
   "outputs": [],
   "source": []
  },
  {
   "cell_type": "code",
   "execution_count": null,
   "id": "4000f5f2-fc64-4459-a4d8-526dd9a3e620",
   "metadata": {},
   "outputs": [],
   "source": []
  }
 ],
 "metadata": {
  "kernelspec": {
   "display_name": "Python 3 (ipykernel)",
   "language": "python",
   "name": "python3"
  },
  "language_info": {
   "codemirror_mode": {
    "name": "ipython",
    "version": 3
   },
   "file_extension": ".py",
   "mimetype": "text/x-python",
   "name": "python",
   "nbconvert_exporter": "python",
   "pygments_lexer": "ipython3",
   "version": "3.11.6"
  }
 },
 "nbformat": 4,
 "nbformat_minor": 5
}
